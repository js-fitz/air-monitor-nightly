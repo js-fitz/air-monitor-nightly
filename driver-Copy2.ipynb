{
 "cells": [
  {
   "cell_type": "code",
   "execution_count": 2,
   "metadata": {},
   "outputs": [],
   "source": [
    "%load_ext autoreload\n",
    "%autoreload 2\n",
    "from tqdm.notebook import tqdm"
   ]
  },
  {
   "cell_type": "code",
   "execution_count": 59,
   "metadata": {
    "scrolled": false
   },
   "outputs": [
    {
     "name": "stdout",
     "output_type": "stream",
     "text": [
      "————————————————————————————————————————————————————————————\n",
      "Loading & parsing listings data\n",
      "————————————————————————————————————————————————————————————\n",
      "  > 'listings.csv' loaded\n",
      "  ——————————————————————————————\n",
      "  > Searching listings data for alias host accounts...\n",
      "    > Found 55/55 active alias host accounts...\n",
      "  >>> Generated 44 new CorpGroup host IDs\n",
      "  > Parsing license numbers\n",
      "    > Imported + licenses parsed\n",
      "  ——————————————————————————————\n",
      "  > Importing ISD registry data...\n",
      "    > Imported + licenses parsed\n",
      "  ——————————————————————————————\n",
      "  > Parsing license statuses...\n"
     ]
    },
    {
     "data": {
      "application/vnd.jupyter.widget-view+json": {
       "model_id": "9c077dc64dfb4c92b1856826310ef874",
       "version_major": 2,
       "version_minor": 0
      },
      "text/plain": [
       "HBox(children=(HTML(value=''), FloatProgress(value=0.0, max=790.0), HTML(value='')))"
      ]
     },
     "metadata": {},
     "output_type": "display_data"
    },
    {
     "name": "stdout",
     "output_type": "stream",
     "text": [
      "\n",
      "    > Matched 747 to ISD data\n",
      "  >>> 17% of total listings have an Active license\n",
      "  ——————————————————————————————\n",
      "  > Searching for license details of listings in ISD data...\n",
      "  > Defining licenses used by multiple hosts \n"
     ]
    },
    {
     "data": {
      "application/vnd.jupyter.widget-view+json": {
       "model_id": "8bff91d0bad54b44801ed928e506c781",
       "version_major": 2,
       "version_minor": 0
      },
      "text/plain": [
       "HBox(children=(HTML(value=''), FloatProgress(value=0.0, max=1246.0), HTML(value='')))"
      ]
     },
     "metadata": {},
     "output_type": "display_data"
    },
    {
     "name": "stdout",
     "output_type": "stream",
     "text": [
      "\n",
      "————————————————————————————————————————————————————————————\n",
      "CREATING CLUSTER LAYER under host_id ...\n",
      "————————————————————————————————————————————————————————————\n",
      "  > 1246 host_id index names found in cache\n",
      "  > DBSCANning with 2 min_samples | epsilon = 300 ft.\n"
     ]
    },
    {
     "data": {
      "application/vnd.jupyter.widget-view+json": {
       "model_id": "e1c1b31776374f30a2afaedc5d63b11f",
       "version_major": 2,
       "version_minor": 0
      },
      "text/plain": [
       "HBox(children=(HTML(value=''), FloatProgress(value=0.0, max=1246.0), HTML(value='')))"
      ]
     },
     "metadata": {},
     "output_type": "display_data"
    },
    {
     "name": "stdout",
     "output_type": "stream",
     "text": [
      "\n",
      "Hosts: found 1246 in cache | 0 new\n",
      "  > 0 outliers not clustered\n",
      "  > 339 sub-classes generated & re-assigned\n",
      "  ——————————————————————————————\n",
      "  > 338 new centroids identified\n",
      "  > 0 centroids recognized from cache\n",
      "  ——————————————————————————————\n",
      "  > Getting cluster params...\n"
     ]
    },
    {
     "data": {
      "application/vnd.jupyter.widget-view+json": {
       "model_id": "c568b8d61cd04f1caaf9b4d5ea6f652b",
       "version_major": 2,
       "version_minor": 0
      },
      "text/plain": [
       "HBox(children=(HTML(value=''), FloatProgress(value=0.0, max=339.0), HTML(value='')))"
      ]
     },
     "metadata": {},
     "output_type": "display_data"
    },
    {
     "name": "stdout",
     "output_type": "stream",
     "text": [
      "\n",
      "  > Found 338 centroid_groups\n",
      "  ——————————————————————————————\n",
      "  > Calculating centroid_group stats for 338 clusters\n"
     ]
    },
    {
     "data": {
      "application/vnd.jupyter.widget-view+json": {
       "model_id": "7c64ce6adf014b9fb3b5462071f1cda2",
       "version_major": 2,
       "version_minor": 0
      },
      "text/plain": [
       "HBox(children=(HTML(value=''), FloatProgress(value=0.0, max=338.0), HTML(value='')))"
      ]
     },
     "metadata": {},
     "output_type": "display_data"
    },
    {
     "name": "stdout",
     "output_type": "stream",
     "text": [
      "\n",
      "  ——————————————————————————————\n",
      "  > Analyzing centroid_group radial stats...\n",
      "  > Calculating listing distances from associated centroids...\n"
     ]
    },
    {
     "data": {
      "application/vnd.jupyter.widget-view+json": {
       "model_id": "c9db9ca2c82a49aebad5744431832194",
       "version_major": 2,
       "version_minor": 0
      },
      "text/plain": [
       "HBox(children=(HTML(value=''), FloatProgress(value=0.0, max=3339.0), HTML(value='')))"
      ]
     },
     "metadata": {},
     "output_type": "display_data"
    },
    {
     "name": "stdout",
     "output_type": "stream",
     "text": [
      "\n",
      "  ——————————————————————————————\n",
      "  > Calculating centroid location confidence...\n"
     ]
    },
    {
     "data": {
      "application/vnd.jupyter.widget-view+json": {
       "model_id": "98e1b1819d7b415a8211ef0da97e7952",
       "version_major": 2,
       "version_minor": 0
      },
      "text/plain": [
       "HBox(children=(HTML(value=''), FloatProgress(value=0.0, max=338.0), HTML(value='')))"
      ]
     },
     "metadata": {},
     "output_type": "display_data"
    },
    {
     "name": "stdout",
     "output_type": "stream",
     "text": [
      "\n",
      "Reverse geocoding cluster centroids with nominatim\n",
      "  ——————————————————————————————\n",
      "  > Found 5849 pre-geocoded locations in cache\n"
     ]
    },
    {
     "data": {
      "application/vnd.jupyter.widget-view+json": {
       "model_id": "aa2eb4f27454427b852b127e10c96493",
       "version_major": 2,
       "version_minor": 0
      },
      "text/plain": [
       "HBox(children=(HTML(value=''), FloatProgress(value=0.0, max=338.0), HTML(value='')))"
      ]
     },
     "metadata": {},
     "output_type": "display_data"
    },
    {
     "name": "stdout",
     "output_type": "stream",
     "text": [
      "\n",
      "  > 338 retrieved from the cache\n",
      "  > 0 new locations geocoded & added to cache\n",
      "  > Geocode completed\n",
      "————————————————————————————————————————————————————————————\n",
      "CREATING CLUSTER LAYER under centroid_group ...\n",
      "————————————————————————————————————————————————————————————\n",
      "  > 0 centroid_group index names found in cache\n",
      "  > DBSCANning with 5 min_samples | epsilon = 70 ft.\n"
     ]
    },
    {
     "data": {
      "application/vnd.jupyter.widget-view+json": {
       "model_id": "680dc3b5fad1456a85c1c3f9472147cb",
       "version_major": 2,
       "version_minor": 0
      },
      "text/plain": [
       "HBox(children=(HTML(value=''), FloatProgress(value=0.0, max=339.0), HTML(value='')))"
      ]
     },
     "metadata": {},
     "output_type": "display_data"
    },
    {
     "name": "stdout",
     "output_type": "stream",
     "text": [
      "\n",
      "  > 966 outliers not clustered\n",
      "  > 384 sub-classes generated & re-assigned\n",
      "  ——————————————————————————————\n",
      "  > 0 new centroids identified\n",
      "  > 0 centroids recognized from cache\n",
      "  ——————————————————————————————\n",
      "  > Getting cluster params...\n"
     ]
    },
    {
     "data": {
      "application/vnd.jupyter.widget-view+json": {
       "model_id": "703863edf0534693b39d3448f3df4c8b",
       "version_major": 2,
       "version_minor": 0
      },
      "text/plain": [
       "HBox(children=(HTML(value=''), FloatProgress(value=0.0, max=384.0), HTML(value='')))"
      ]
     },
     "metadata": {},
     "output_type": "display_data"
    },
    {
     "name": "stdout",
     "output_type": "stream",
     "text": [
      "\n",
      "  > Found 69 sub_centroids\n",
      "  ——————————————————————————————\n",
      "  > Calculating sub_centroid stats for 69 clusters\n"
     ]
    },
    {
     "data": {
      "application/vnd.jupyter.widget-view+json": {
       "model_id": "435dbe86dbd84f8a9cb4e8029bebeaa0",
       "version_major": 2,
       "version_minor": 0
      },
      "text/plain": [
       "HBox(children=(HTML(value=''), FloatProgress(value=0.0, max=69.0), HTML(value='')))"
      ]
     },
     "metadata": {},
     "output_type": "display_data"
    },
    {
     "name": "stdout",
     "output_type": "stream",
     "text": [
      "\n",
      "  ——————————————————————————————\n",
      "  > Analyzing sub_centroid radial stats...\n",
      "  > Calculating listing distances from associated centroids...\n"
     ]
    },
    {
     "data": {
      "application/vnd.jupyter.widget-view+json": {
       "model_id": "26d02cf45b754f229ba472f2b4071c75",
       "version_major": 2,
       "version_minor": 0
      },
      "text/plain": [
       "HBox(children=(HTML(value=''), FloatProgress(value=0.0, max=3339.0), HTML(value='')))"
      ]
     },
     "metadata": {},
     "output_type": "display_data"
    },
    {
     "name": "stdout",
     "output_type": "stream",
     "text": [
      "\n",
      "  ——————————————————————————————\n",
      "  > Calculating centroid location confidence...\n"
     ]
    },
    {
     "data": {
      "application/vnd.jupyter.widget-view+json": {
       "model_id": "3d8ba1a03f6f4ab6a9517219ebf71d2e",
       "version_major": 2,
       "version_minor": 0
      },
      "text/plain": [
       "HBox(children=(HTML(value=''), FloatProgress(value=0.0, max=69.0), HTML(value='')))"
      ]
     },
     "metadata": {},
     "output_type": "display_data"
    },
    {
     "name": "stdout",
     "output_type": "stream",
     "text": [
      "\n",
      "Reverse geocoding cluster centroids with nominatim\n",
      "  ——————————————————————————————\n",
      "  > Found 5849 pre-geocoded locations in cache\n"
     ]
    },
    {
     "data": {
      "application/vnd.jupyter.widget-view+json": {
       "model_id": "cef6319705684bc3ac82f70322820a66",
       "version_major": 2,
       "version_minor": 0
      },
      "text/plain": [
       "HBox(children=(HTML(value=''), FloatProgress(value=0.0, max=69.0), HTML(value='')))"
      ]
     },
     "metadata": {},
     "output_type": "display_data"
    },
    {
     "name": "stdout",
     "output_type": "stream",
     "text": [
      "\n",
      "  > 69 retrieved from the cache\n",
      "  > 0 new locations geocoded & added to cache\n",
      "  > Geocode completed\n",
      "————————————————————————————————————————————————————————————\n",
      "—————————————————————————————— \n",
      "Clustering completed\n",
      "——————————————————————————————\n"
     ]
    }
   ],
   "source": [
    "# CLEAN & CLUSTER\n",
    "from mods import cluster\n",
    "cluster.run()"
   ]
  },
  {
   "cell_type": "code",
   "execution_count": null,
   "metadata": {},
   "outputs": [],
   "source": []
  },
  {
   "cell_type": "code",
   "execution_count": 49,
   "metadata": {},
   "outputs": [
    {
     "name": "stdout",
     "output_type": "stream",
     "text": [
      "————————————————————————————————————————————————————————————\n",
      "——————————————————————————————\n",
      "> Loading ADCO STR building database... data_raw/STRbldgsGPSplus.csv\n",
      "  > 223 STR buildings found\n",
      "——————————————————————————————\n",
      "> Centroid data loaded from clustered/centroids.csv\n",
      "  > 199 hosts | 338 centroids | 1625 listings\n",
      "> Sub centroid data loaded from clustered/sub_centroids.csv\n",
      "  > 37 hosts | 69 centroids | 659 listings\n",
      "> Listings data loaded from clustered/listings.csv\n",
      "  > 1246 hosts | 338 centroids | 3339 listings\n",
      "——————————————————————————————\n",
      "> Calculating centroids map element radius (alternate)\n",
      "> Calculating centroids map element opacity\n",
      "> Applying license status color key\n",
      "  ——————————————————————————————\n",
      "  > Identifying big centroids...\n",
      "    > Would drop 0 centroids (0 listings)\n",
      "    > Would remain: 338 centroids (3339 listings)\n",
      "———————————————\n",
      "> Assessing ISD matches for centroids...\n",
      "> Getting city regions for centroids...\n",
      "> Getting best addresses for centroids...\n",
      "> Getting best addresses for centroids...\n",
      "——————————————————————————————\n",
      "  > Creating global search bar...\n"
     ]
    },
    {
     "data": {
      "application/vnd.jupyter.widget-view+json": {
       "model_id": "c47f4cba591f4587b0328d7bc99e48c9",
       "version_major": 2,
       "version_minor": 0
      },
      "text/plain": [
       "HBox(children=(HTML(value=''), FloatProgress(value=0.0, max=1246.0), HTML(value='')))"
      ]
     },
     "metadata": {},
     "output_type": "display_data"
    },
    {
     "name": "stdout",
     "output_type": "stream",
     "text": [
      "\n"
     ]
    }
   ],
   "source": [
    "# PREP DATA FOR MAPPING\n",
    "from mods.map import *\n",
    "sub_mode(False)\n",
    "centroids, listings, sub_centroids = load_data()\n",
    "centroids, listings = big_centroid_focus(centroids, listings)\n",
    "centroids = assess_isd_matches(centroids, listings)\n",
    "centroids = get_city_regions(centroids)\n",
    "centroids = get_best_addresses(centroids)\n",
    "sub_centroids = get_best_addresses(sub_centroids, True)\n",
    "global_search(centroids, listings)"
   ]
  },
  {
   "cell_type": "markdown",
   "metadata": {},
   "source": [
    "## make home page"
   ]
  },
  {
   "cell_type": "code",
   "execution_count": 50,
   "metadata": {},
   "outputs": [],
   "source": [
    "# HOME PAGE\n",
    "m = map_listings(listings)\n",
    "page = make_home_page(m, listings)\n",
    "Html_file= open('airbnb_tracker/home.html',\"w\")\n",
    "Html_file.write(page)\n",
    "Html_file.close()"
   ]
  },
  {
   "cell_type": "markdown",
   "metadata": {},
   "source": [
    "## make high-conf centroids page"
   ]
  },
  {
   "cell_type": "code",
   "execution_count": 51,
   "metadata": {},
   "outputs": [],
   "source": [
    "# TOP CENTROIDS PAGE\n",
    "m = map_top_centroids(centroids, listings)\n",
    "page = make_top_centroids_page(m, centroids, listings)\n",
    "Html_file= open('airbnb_tracker/clusters.html',\"w\")\n",
    "Html_file.write(page)\n",
    "Html_file.close()"
   ]
  },
  {
   "cell_type": "markdown",
   "metadata": {},
   "source": [
    "## make host focus pages"
   ]
  },
  {
   "cell_type": "code",
   "execution_count": 41,
   "metadata": {},
   "outputs": [
    {
     "data": {
      "application/vnd.jupyter.widget-view+json": {
       "model_id": "7b01de99dc5c4afc93ff83ce5c01c12d",
       "version_major": 2,
       "version_minor": 0
      },
      "text/plain": [
       "HBox(children=(HTML(value=''), FloatProgress(value=0.0, max=1246.0), HTML(value='')))"
      ]
     },
     "metadata": {},
     "output_type": "display_data"
    },
    {
     "name": "stdout",
     "output_type": "stream",
     "text": [
      "\n"
     ]
    }
   ],
   "source": [
    "# HOST FOCUS PAGES\n",
    "for host in tqdm(listings.host_id.unique()):\n",
    "    m = map_focus_data('host_id', host, centroids, listings, sub_centroids)\n",
    "    page = make_host_focus_page('host_id', host, m, centroids, listings, sub_centroids)\n",
    "    Html_file= open(f'airbnb_tracker/host/{host}.html',\"w\")\n",
    "    Html_file.write(page)\n",
    "    Html_file.close()"
   ]
  },
  {
   "cell_type": "markdown",
   "metadata": {},
   "source": [
    "## make centroid focus pages"
   ]
  },
  {
   "cell_type": "code",
   "execution_count": 57,
   "metadata": {},
   "outputs": [
    {
     "data": {
      "application/vnd.jupyter.widget-view+json": {
       "model_id": "ea1ad5f1a79e4d34a08be216ab623b08",
       "version_major": 2,
       "version_minor": 0
      },
      "text/plain": [
       "HBox(children=(HTML(value=''), FloatProgress(value=0.0, max=338.0), HTML(value='')))"
      ]
     },
     "metadata": {},
     "output_type": "display_data"
    },
    {
     "name": "stdout",
     "output_type": "stream",
     "text": [
      "\n"
     ]
    }
   ],
   "source": [
    "# CENTROID FOCUS PAGES\n",
    "for c_group in tqdm(listings.centroid_group.dropna().unique()):\n",
    "    m = map_focus_data('centroid_group', c_group, centroids, listings, sub_centroids)\n",
    "    page = make_centroid_page('centroid_group', c_group, m, listings, centroids, sub_centroids)\n",
    "    Html_file= open(f'airbnb_tracker/cluster/{c_group}.html',\"w\")\n",
    "    Html_file.write(page)\n",
    "    Html_file.close()"
   ]
  },
  {
   "cell_type": "markdown",
   "metadata": {},
   "source": [
    "## make sub-centroid focus pages"
   ]
  },
  {
   "cell_type": "code",
   "execution_count": 46,
   "metadata": {},
   "outputs": [
    {
     "data": {
      "application/vnd.jupyter.widget-view+json": {
       "model_id": "a448ba0929464543a3695802a3808c49",
       "version_major": 2,
       "version_minor": 0
      },
      "text/plain": [
       "HBox(children=(HTML(value=''), FloatProgress(value=0.0, max=69.0), HTML(value='')))"
      ]
     },
     "metadata": {},
     "output_type": "display_data"
    },
    {
     "name": "stdout",
     "output_type": "stream",
     "text": [
      "\n"
     ]
    }
   ],
   "source": [
    "# SUB_CENTROID FOCUS PAGES\n",
    "\n",
    "for sub_c_group in tqdm(listings.sub_centroid.dropna().unique()):\n",
    "    m = map_one_sub(sub_c_group, listings, sub_centroids)\n",
    "    page = make_sub_centroid_page(sub_c_group, m, listings, sub_centroids)\n",
    "    Html_file= open(f'airbnb_tracker/sub_cluster/{sub_c_group}.html',\"w\")\n",
    "    Html_file.write(page)\n",
    "    Html_file.close()"
   ]
  },
  {
   "cell_type": "code",
   "execution_count": null,
   "metadata": {},
   "outputs": [],
   "source": []
  },
  {
   "cell_type": "code",
   "execution_count": null,
   "metadata": {},
   "outputs": [],
   "source": []
  }
 ],
 "metadata": {
  "kernelspec": {
   "display_name": "Python 3",
   "language": "python",
   "name": "python3"
  },
  "language_info": {
   "codemirror_mode": {
    "name": "ipython",
    "version": 3
   },
   "file_extension": ".py",
   "mimetype": "text/x-python",
   "name": "python",
   "nbconvert_exporter": "python",
   "pygments_lexer": "ipython3",
   "version": "3.8.5"
  }
 },
 "nbformat": 4,
 "nbformat_minor": 4
}
