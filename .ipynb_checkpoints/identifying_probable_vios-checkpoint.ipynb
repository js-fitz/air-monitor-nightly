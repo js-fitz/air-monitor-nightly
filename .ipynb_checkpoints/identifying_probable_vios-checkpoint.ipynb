{
 "cells": [
  {
   "cell_type": "code",
   "execution_count": 23,
   "metadata": {},
   "outputs": [],
   "source": [
    "import re\n",
    "import numpy as np\n",
    "import pandas as pd\n",
    "import geopandas as gp\n",
    "from branca import colormap\n",
    "from tqdm.notebook import tqdm"
   ]
  },
  {
   "cell_type": "code",
   "execution_count": 24,
   "metadata": {},
   "outputs": [],
   "source": [
    "%%capture\n",
    "tqdm.pandas()"
   ]
  },
  {
   "cell_type": "code",
   "execution_count": 25,
   "metadata": {},
   "outputs": [
    {
     "name": "stdout",
     "output_type": "stream",
     "text": [
      "Airbnb data last updated:\n",
      "== 2020-02-13 ==\n"
     ]
    }
   ],
   "source": [
    "# import data\n",
    "airbnb = pd.read_csv('../groupby_prep/airbnb_clean.csv', low_memory=0)\n",
    "airbnb.last_scraped = pd.to_datetime(airbnb.last_scraped)\n",
    "print(f'Airbnb data last updated:\\n== {airbnb.last_scraped.max().date()} ==')\n",
    "airbnb = airbnb[airbnb.last_scraped==airbnb.last_scraped.max()]\n",
    "\n",
    "props = pd.read_csv('../groupby_prep/props_clean.csv', low_memory=0)\n",
    "props = gp.GeoDataFrame(props, geometry=gp.points_from_xy(props.Y, props.X))"
   ]
  },
  {
   "cell_type": "code",
   "execution_count": 26,
   "metadata": {},
   "outputs": [
    {
     "name": "stdout",
     "output_type": "stream",
     "text": [
      "770 listings share 192 unique licenses.\n"
     ]
    }
   ],
   "source": [
    "# create column of duplicate license count \n",
    "dup_ct_map = dict(zip(airbnb['license'].value_counts().index,\n",
    "                      airbnb['license'].value_counts().values))\n",
    "airbnb['license_count'] = airbnb['license'].map(dup_ct_map)\n",
    "\n",
    "# create df of listings with duplicated licenses ()\n",
    "duplicates = airbnb[(airbnb['license_count']>1) & # exclude claimed exemptions:\n",
    "                    (~airbnb[\"license\"].str.contains('Exempt', na=False))\n",
    "                   ].sort_values('license_count', ascending=False)\n",
    "print( len(duplicates), 'listings share',\n",
    "      duplicates.license.nunique(), 'unique licenses.')"
   ]
  },
  {
   "cell_type": "code",
   "execution_count": 27,
   "metadata": {},
   "outputs": [
    {
     "data": {
      "text/plain": [
       "1021    42.34258\n",
       "1022    42.34259\n",
       "1034    42.34439\n",
       "1032    42.34398\n",
       "1031    42.34277\n",
       "          ...   \n",
       "724     42.29182\n",
       "1768    42.31311\n",
       "1777    42.36733\n",
       "1779    42.28993\n",
       "704     42.34981\n",
       "Name: latitude, Length: 770, dtype: float64"
      ]
     },
     "execution_count": 27,
     "metadata": {},
     "output_type": "execute_result"
    }
   ],
   "source": [
    "duplicates.latitude"
   ]
  },
  {
   "cell_type": "code",
   "execution_count": 28,
   "metadata": {},
   "outputs": [],
   "source": [
    "duplicates = gp.GeoDataFrame(duplicates,\n",
    "            geometry=gp.points_from_xy(duplicates.latitude, duplicates.longitude))"
   ]
  },
  {
   "cell_type": "code",
   "execution_count": 2128,
   "metadata": {},
   "outputs": [],
   "source": [
    "duplicates.to_csv('duplicated_license_listings.csv', index=False)"
   ]
  },
  {
   "cell_type": "code",
   "execution_count": 6,
   "metadata": {},
   "outputs": [
    {
     "name": "stdout",
     "output_type": "stream",
     "text": [
      "(182, 5)\n"
     ]
    },
    {
     "data": {
      "text/html": [
       "<div>\n",
       "<style scoped>\n",
       "    .dataframe tbody tr th:only-of-type {\n",
       "        vertical-align: middle;\n",
       "    }\n",
       "\n",
       "    .dataframe tbody tr th {\n",
       "        vertical-align: top;\n",
       "    }\n",
       "\n",
       "    .dataframe thead th {\n",
       "        text-align: right;\n",
       "    }\n",
       "</style>\n",
       "<table border=\"1\" class=\"dataframe\">\n",
       "  <thead>\n",
       "    <tr style=\"text-align: right;\">\n",
       "      <th></th>\n",
       "      <th>license</th>\n",
       "      <th>count</th>\n",
       "      <th>accommodates</th>\n",
       "      <th>geometry</th>\n",
       "      <th>host_name</th>\n",
       "    </tr>\n",
       "  </thead>\n",
       "  <tbody>\n",
       "    <tr>\n",
       "      <th>0</th>\n",
       "      <td>STR-918313</td>\n",
       "      <td>47</td>\n",
       "      <td>124</td>\n",
       "      <td>POINT (42.34367 -71.10188)</td>\n",
       "      <td>Sonder</td>\n",
       "    </tr>\n",
       "    <tr>\n",
       "      <th>1</th>\n",
       "      <td>STR-390690</td>\n",
       "      <td>34</td>\n",
       "      <td>123</td>\n",
       "      <td>POINT (42.35536 -71.06156)</td>\n",
       "      <td>TemplePlace</td>\n",
       "    </tr>\n",
       "    <tr>\n",
       "      <th>2</th>\n",
       "      <td>STR-415697</td>\n",
       "      <td>22</td>\n",
       "      <td>96</td>\n",
       "      <td>POINT (42.32546 -71.10443)</td>\n",
       "      <td>Bezzubikooff</td>\n",
       "    </tr>\n",
       "  </tbody>\n",
       "</table>\n",
       "</div>"
      ],
      "text/plain": [
       "      license  count  accommodates                    geometry     host_name\n",
       "0  STR-918313     47           124  POINT (42.34367 -71.10188)        Sonder\n",
       "1  STR-390690     34           123  POINT (42.35536 -71.06156)   TemplePlace\n",
       "2  STR-415697     22            96  POINT (42.32546 -71.10443)  Bezzubikooff"
      ]
     },
     "execution_count": 6,
     "metadata": {},
     "output_type": "execute_result"
    }
   ],
   "source": [
    "# calc avg location of listings with shared license #\n",
    "centroids = pd.concat([duplicates.groupby('license').sum().accommodates,\n",
    "                       duplicates.groupby('license').mean().latitude,\n",
    "                       duplicates.groupby('license').mean().longitude,\n",
    "                       duplicates.groupby('license').count().id],\n",
    "                      axis=1).reset_index()\n",
    "# make geodataframe from calculated centroids\n",
    "centroids = gp.GeoDataFrame(centroids[['license', 'id', 'accommodates']],\n",
    "                            geometry=gp.points_from_xy(\n",
    "                                centroids.latitude, centroids.longitude))\n",
    "# sort by license count\n",
    "centroids.sort_values('id', ascending=False, inplace=True)\n",
    "centroids.rename(columns={'id':'count'}, inplace=True)\n",
    "centroids.reset_index(inplace=True, drop=True)\n",
    "\n",
    "# add host name\n",
    "host_counts = duplicates.groupby('license').host_name.value_counts().to_frame().rename(\n",
    "    columns={'host_name':'host'}).reset_index().set_index('license')\n",
    "host_map = host_counts.to_dict()['host_name']\n",
    "centroids['host_name'] =  centroids.license.map(host_map)\n",
    "\n",
    "print(centroids.shape)\n",
    "centroids.head(3)"
   ]
  },
  {
   "cell_type": "code",
   "execution_count": 7,
   "metadata": {},
   "outputs": [],
   "source": [
    "# IS VIOLATION? ESTIMATOR \n",
    "# for the calculated centroid location of listings with a duplicate license: \n",
    "# - search closest n_props (start with 100)\n",
    "# - if commercial property exists:\n",
    "#   - record number of comm props vs. resi props in search radius\n",
    "#   - record distance of closest comm prop from centroid\n",
    "#   - record closest comm prop's index in the BARI data\n",
    "# - else:\n",
    "#   - increase search radius by step_size (100) and try again"
   ]
  },
  {
   "cell_type": "code",
   "execution_count": 40,
   "metadata": {},
   "outputs": [],
   "source": [
    "import geopy.distance\n",
    "def ft_distance(lat1, lon1, lat2, lon2):\n",
    "    try: return geopy.distance.geodesic((lat1, lon1), (lat2, lon2)).km*3280.84\n",
    "    except: return np.nan"
   ]
  },
  {
   "cell_type": "markdown",
   "metadata": {},
   "source": [
    "[LU data dictionary](https://www.cityofboston.gov/TridionImages/2009_LITE_web_tcm1-3639.pdf)"
   ]
  },
  {
   "cell_type": "code",
   "execution_count": 9,
   "metadata": {},
   "outputs": [],
   "source": [
    "def closest_props_checker(row, n_closest, step_size, props=props):\n",
    "        props = props[props['unit_N']!=0] # only search props with nonzero unit number\n",
    "        closest_props = props.loc[props.distance(\n",
    "                                row['geometry']).sort_values()[:n_closest].index]\n",
    "        n_close_resi_props = closest_props[\n",
    "            ['LU_R1', 'LU_R2', 'LU_R3', 'LU_RL', 'LU_R4',\n",
    "             'LU_A', 'LU_CM', 'LU_CD', 'LU_CP']].sum().sum()\n",
    "        n_close_comm_props = closest_props[\n",
    "            ['LU_RC', 'LU_CC', 'LU_C', 'LU_CL']].sum().sum()\n",
    "        n_close_misc_props = closest_props[\n",
    "            ['LU_AH', 'LU_I', 'LU_E', 'LU_EA']].sum().sum()\n",
    "        \n",
    "        if n_close_comm_props!=0:     \n",
    "        # if comm prop found:\n",
    "            closest_comm_prop = closest_props[ # ID closest comm prop - if:\n",
    "                    (closest_props['LU_RC']==1) #\n",
    "                    |(closest_props['LU_CC']==1) # prop is any commercial LU type \n",
    "                    |(closest_props['LU_C']==1)  #\n",
    "                    |(closest_props['LU_CL']==1)#\n",
    "                ].reset_index().iloc[0] # grab closest\n",
    "            closest_comm_dist_ft = ft_distance(\n",
    "                row['geometry'].x, row['geometry'].y,\n",
    "                closest_comm_prop.geometry.x, closest_comm_prop.geometry.y)\n",
    "            return {'count_listings': row['count'],\n",
    "                    'closest_commprop_idx': closest_comm_prop['index'],\n",
    "                    'closest_commprop_dist_ft': closest_comm_dist_ft,\n",
    "                    'commercial_props': n_close_comm_props,\n",
    "                    'resi/condo_props': n_close_resi_props,\n",
    "                    'agr/ind/TE_props': n_close_misc_props,\n",
    "                    'n_props_searched': n_closest}\n",
    "        else: # expand search radius if no comm prop found\n",
    "            return closest_props_checker(row, n_closest+step_size, step_size=step_size)"
   ]
  },
  {
   "cell_type": "code",
   "execution_count": 10,
   "metadata": {},
   "outputs": [],
   "source": [
    "def listings_props_finder(data, n_closest=50, step_size=50):\n",
    "    out = {}\n",
    "    for idx in tqdm(data.index): \n",
    "        row = data.loc[idx]\n",
    "        out[row['license']] = closest_props_checker(row, n_closest, step_size)\n",
    "        if idx%18==0:\n",
    "            print(f'{round(100*idx/len(data))}% listings matched\\n  avg search:',\n",
    "              np.mean([v['n_props_searched'] for v in out.values() if v != None]))\n",
    "    return pd.DataFrame(out).T.reset_index().rename(columns={'index':'license'})"
   ]
  },
  {
   "cell_type": "code",
   "execution_count": 11,
   "metadata": {},
   "outputs": [
    {
     "data": {
      "application/vnd.jupyter.widget-view+json": {
       "model_id": "ced96fa1a77f48bab78245b135edd9c0",
       "version_major": 2,
       "version_minor": 0
      },
      "text/plain": [
       "HBox(children=(FloatProgress(value=0.0, max=182.0), HTML(value='')))"
      ]
     },
     "metadata": {},
     "output_type": "display_data"
    },
    {
     "name": "stdout",
     "output_type": "stream",
     "text": [
      "0% listings matched\n",
      "  avg search: 50.0\n",
      "10% listings matched\n",
      "  avg search: 65.78947368421052\n",
      "20% listings matched\n",
      "  avg search: 82.43243243243244\n",
      "30% listings matched\n",
      "  avg search: 76.36363636363636\n",
      "40% listings matched\n",
      "  avg search: 89.04109589041096\n",
      "49% listings matched\n",
      "  avg search: 95.05494505494505\n",
      "59% listings matched\n",
      "  avg search: 109.63302752293578\n",
      "69% listings matched\n",
      "  avg search: 108.66141732283465\n",
      "79% listings matched\n",
      "  avg search: 113.44827586206897\n",
      "89% listings matched\n",
      "  avg search: 122.69938650306749\n",
      "99% listings matched\n",
      "  avg search: 124.58563535911603\n",
      "\n"
     ]
    }
   ],
   "source": [
    "listings_props_map = listings_props_finder(centroids)"
   ]
  },
  {
   "cell_type": "code",
   "execution_count": 128,
   "metadata": {},
   "outputs": [],
   "source": [
    "listings_props_map[['accommodations', 'geometry']\n",
    "     ] = centroids[['accommodates', 'geometry']]"
   ]
  },
  {
   "cell_type": "code",
   "execution_count": 1704,
   "metadata": {},
   "outputs": [],
   "source": [
    "# SAVE PROGRESS!\n",
    "listings_props_map.to_csv('license_centroids.csv', index=False)"
   ]
  },
  {
   "cell_type": "code",
   "execution_count": null,
   "metadata": {},
   "outputs": [],
   "source": []
  },
  {
   "cell_type": "markdown",
   "metadata": {},
   "source": [
    "# checkpoint"
   ]
  },
  {
   "cell_type": "code",
   "execution_count": 7,
   "metadata": {},
   "outputs": [],
   "source": [
    "import shapely.wkt"
   ]
  },
  {
   "cell_type": "code",
   "execution_count": 8,
   "metadata": {},
   "outputs": [],
   "source": [
    "listings_props_map = pd.read_csv('license_centroids.csv')\n",
    "listings_props_map = gp.GeoDataFrame(listings_props_map,\n",
    "                                     geometry=listings_props_map.geometry.apply(\n",
    "                                         shapely.wkt.loads))"
   ]
  },
  {
   "cell_type": "code",
   "execution_count": 41,
   "metadata": {},
   "outputs": [],
   "source": [
    "df = listings_props_map.copy()\n",
    "df['closest_commprop_dist_ft'] = round(df.closest_commprop_dist_ft)"
   ]
  },
  {
   "cell_type": "code",
   "execution_count": 42,
   "metadata": {},
   "outputs": [],
   "source": [
    "def parse_license_num(x):\n",
    "    return int(''.join(re.findall('[\\d]', x)))\n",
    "df['license_num'] = df.license.apply(parse_license_num)"
   ]
  },
  {
   "cell_type": "markdown",
   "metadata": {},
   "source": [
    "# compare to licenses in applications data"
   ]
  },
  {
   "cell_type": "code",
   "execution_count": 43,
   "metadata": {},
   "outputs": [],
   "source": [
    "def parse_license_num(x):\n",
    "    return int(''.join(re.findall('[\\d]', x)))\n",
    "df['license_num'] = df.license.apply(parse_license_num)"
   ]
  },
  {
   "cell_type": "code",
   "execution_count": 44,
   "metadata": {},
   "outputs": [],
   "source": [
    "stre = pd.read_csv('../groupby_prep/stre_clean.csv', low_memory=0)"
   ]
  },
  {
   "cell_type": "code",
   "execution_count": 45,
   "metadata": {},
   "outputs": [
    {
     "data": {
      "text/plain": [
       "0       LS\n",
       "1       OA\n",
       "2       HS\n",
       "3       HS\n",
       "4       LS\n",
       "        ..\n",
       "2060    HS\n",
       "2061    HS\n",
       "2062    HS\n",
       "2063    LS\n",
       "2064    LS\n",
       "Name: APP_Category, Length: 2065, dtype: object"
      ]
     },
     "execution_count": 45,
     "metadata": {},
     "output_type": "execute_result"
    }
   ],
   "source": [
    "stre.APP_Category"
   ]
  },
  {
   "cell_type": "code",
   "execution_count": 46,
   "metadata": {},
   "outputs": [
    {
     "data": {
      "text/html": [
       "<div>\n",
       "<style scoped>\n",
       "    .dataframe tbody tr th:only-of-type {\n",
       "        vertical-align: middle;\n",
       "    }\n",
       "\n",
       "    .dataframe tbody tr th {\n",
       "        vertical-align: top;\n",
       "    }\n",
       "\n",
       "    .dataframe thead th {\n",
       "        text-align: right;\n",
       "    }\n",
       "</style>\n",
       "<table border=\"1\" class=\"dataframe\">\n",
       "  <thead>\n",
       "    <tr style=\"text-align: right;\">\n",
       "      <th></th>\n",
       "      <th>license</th>\n",
       "      <th>count_listings</th>\n",
       "      <th>closest_commprop_idx</th>\n",
       "      <th>closest_commprop_dist_ft</th>\n",
       "      <th>commercial_props</th>\n",
       "      <th>resi/condo_props</th>\n",
       "      <th>agr/ind/TE_props</th>\n",
       "      <th>n_props_searched</th>\n",
       "      <th>accommodations</th>\n",
       "      <th>geometry</th>\n",
       "      <th>...</th>\n",
       "      <th>dispersal_factor</th>\n",
       "      <th>centroid_confidence</th>\n",
       "      <th>max_distance_ft</th>\n",
       "      <th>zoom_factor</th>\n",
       "      <th>marker_radius</th>\n",
       "      <th>best_guess_prop_adrs</th>\n",
       "      <th>best_guess_prop_unit_n</th>\n",
       "      <th>best_guess_prop_num_floors</th>\n",
       "      <th>best_guess_prop_own_occ</th>\n",
       "      <th>best_guess_prop_lu</th>\n",
       "    </tr>\n",
       "  </thead>\n",
       "  <tbody>\n",
       "    <tr>\n",
       "      <th>0</th>\n",
       "      <td>STR-415643</td>\n",
       "      <td>2.0</td>\n",
       "      <td>171141.0</td>\n",
       "      <td>265.0</td>\n",
       "      <td>25.0</td>\n",
       "      <td>10.0</td>\n",
       "      <td>15.0</td>\n",
       "      <td>50.0</td>\n",
       "      <td>12</td>\n",
       "      <td>POINT (42.32999 -71.08403)</td>\n",
       "      <td>...</td>\n",
       "      <td>4.886297</td>\n",
       "      <td>6.0</td>\n",
       "      <td>7231.199753</td>\n",
       "      <td>4.886299</td>\n",
       "      <td>4.394449</td>\n",
       "      <td>2261 - 227 Washington St, Roxbury</td>\n",
       "      <td>2</td>\n",
       "      <td>1.0</td>\n",
       "      <td>0</td>\n",
       "      <td>Commercial</td>\n",
       "    </tr>\n",
       "    <tr>\n",
       "      <th>1</th>\n",
       "      <td>STR-415647</td>\n",
       "      <td>2.0</td>\n",
       "      <td>171141.0</td>\n",
       "      <td>188.0</td>\n",
       "      <td>16.0</td>\n",
       "      <td>22.0</td>\n",
       "      <td>12.0</td>\n",
       "      <td>50.0</td>\n",
       "      <td>10</td>\n",
       "      <td>POINT (42.33029 -71.08445)</td>\n",
       "      <td>...</td>\n",
       "      <td>4.872315</td>\n",
       "      <td>6.0</td>\n",
       "      <td>7130.776297</td>\n",
       "      <td>4.872316</td>\n",
       "      <td>4.394449</td>\n",
       "      <td>2261 - 227 Washington St, Roxbury</td>\n",
       "      <td>2</td>\n",
       "      <td>1.0</td>\n",
       "      <td>0</td>\n",
       "      <td>Commercial</td>\n",
       "    </tr>\n",
       "    <tr>\n",
       "      <th>2</th>\n",
       "      <td>STR-419049</td>\n",
       "      <td>4.0</td>\n",
       "      <td>130218.0</td>\n",
       "      <td>124.0</td>\n",
       "      <td>7.0</td>\n",
       "      <td>39.0</td>\n",
       "      <td>4.0</td>\n",
       "      <td>50.0</td>\n",
       "      <td>23</td>\n",
       "      <td>POINT (42.34417 -71.08655)</td>\n",
       "      <td>...</td>\n",
       "      <td>5.450239</td>\n",
       "      <td>0.0</td>\n",
       "      <td>19203.903359</td>\n",
       "      <td>5.862921</td>\n",
       "      <td>6.437752</td>\n",
       "      <td>189 277 Massachusetts Av, Fenway</td>\n",
       "      <td>538</td>\n",
       "      <td>11.0</td>\n",
       "      <td>0</td>\n",
       "      <td>Mixed use (Residential and Commercial)</td>\n",
       "    </tr>\n",
       "    <tr>\n",
       "      <th>3</th>\n",
       "      <td>STR-414596</td>\n",
       "      <td>6.0</td>\n",
       "      <td>147566.0</td>\n",
       "      <td>112.0</td>\n",
       "      <td>4.0</td>\n",
       "      <td>41.0</td>\n",
       "      <td>5.0</td>\n",
       "      <td>50.0</td>\n",
       "      <td>29</td>\n",
       "      <td>POINT (42.34438 -71.09645)</td>\n",
       "      <td>...</td>\n",
       "      <td>4.318644</td>\n",
       "      <td>12.0</td>\n",
       "      <td>11880.398234</td>\n",
       "      <td>5.382729</td>\n",
       "      <td>7.783641</td>\n",
       "      <td>1270 A1270 Boylston St, Fenway</td>\n",
       "      <td>2</td>\n",
       "      <td>2.0</td>\n",
       "      <td>0</td>\n",
       "      <td>Commercial</td>\n",
       "    </tr>\n",
       "    <tr>\n",
       "      <th>4</th>\n",
       "      <td>STR-413530</td>\n",
       "      <td>2.0</td>\n",
       "      <td>67707.0</td>\n",
       "      <td>2339.0</td>\n",
       "      <td>1.0</td>\n",
       "      <td>487.0</td>\n",
       "      <td>12.0</td>\n",
       "      <td>500.0</td>\n",
       "      <td>8</td>\n",
       "      <td>POINT (42.31333 -71.12771)</td>\n",
       "      <td>...</td>\n",
       "      <td>0.400113</td>\n",
       "      <td>53.0</td>\n",
       "      <td>80.460056</td>\n",
       "      <td>0.400113</td>\n",
       "      <td>4.394449</td>\n",
       "      <td>414 420 Pond St, Jamaica Plain</td>\n",
       "      <td>39</td>\n",
       "      <td>NaN</td>\n",
       "      <td>0</td>\n",
       "      <td>Commercial</td>\n",
       "    </tr>\n",
       "  </tbody>\n",
       "</table>\n",
       "<p>5 rows × 32 columns</p>\n",
       "</div>"
      ],
      "text/plain": [
       "      license  count_listings  closest_commprop_idx  closest_commprop_dist_ft  \\\n",
       "0  STR-415643             2.0              171141.0                     265.0   \n",
       "1  STR-415647             2.0              171141.0                     188.0   \n",
       "2  STR-419049             4.0              130218.0                     124.0   \n",
       "3  STR-414596             6.0              147566.0                     112.0   \n",
       "4  STR-413530             2.0               67707.0                    2339.0   \n",
       "\n",
       "   commercial_props  resi/condo_props  agr/ind/TE_props  n_props_searched  \\\n",
       "0              25.0              10.0              15.0              50.0   \n",
       "1              16.0              22.0              12.0              50.0   \n",
       "2               7.0              39.0               4.0              50.0   \n",
       "3               4.0              41.0               5.0              50.0   \n",
       "4               1.0             487.0              12.0             500.0   \n",
       "\n",
       "   accommodations                    geometry  ...  dispersal_factor  \\\n",
       "0              12  POINT (42.32999 -71.08403)  ...          4.886297   \n",
       "1              10  POINT (42.33029 -71.08445)  ...          4.872315   \n",
       "2              23  POINT (42.34417 -71.08655)  ...          5.450239   \n",
       "3              29  POINT (42.34438 -71.09645)  ...          4.318644   \n",
       "4               8  POINT (42.31333 -71.12771)  ...          0.400113   \n",
       "\n",
       "   centroid_confidence  max_distance_ft zoom_factor marker_radius  \\\n",
       "0                  6.0      7231.199753    4.886299      4.394449   \n",
       "1                  6.0      7130.776297    4.872316      4.394449   \n",
       "2                  0.0     19203.903359    5.862921      6.437752   \n",
       "3                 12.0     11880.398234    5.382729      7.783641   \n",
       "4                 53.0        80.460056    0.400113      4.394449   \n",
       "\n",
       "                best_guess_prop_adrs best_guess_prop_unit_n  \\\n",
       "0  2261 - 227 Washington St, Roxbury                      2   \n",
       "1  2261 - 227 Washington St, Roxbury                      2   \n",
       "2   189 277 Massachusetts Av, Fenway                    538   \n",
       "3     1270 A1270 Boylston St, Fenway                      2   \n",
       "4     414 420 Pond St, Jamaica Plain                     39   \n",
       "\n",
       "   best_guess_prop_num_floors  best_guess_prop_own_occ  \\\n",
       "0                         1.0                        0   \n",
       "1                         1.0                        0   \n",
       "2                        11.0                        0   \n",
       "3                         2.0                        0   \n",
       "4                         NaN                        0   \n",
       "\n",
       "                       best_guess_prop_lu  \n",
       "0                              Commercial  \n",
       "1                              Commercial  \n",
       "2  Mixed use (Residential and Commercial)  \n",
       "3                              Commercial  \n",
       "4                              Commercial  \n",
       "\n",
       "[5 rows x 32 columns]"
      ]
     },
     "execution_count": 46,
     "metadata": {},
     "output_type": "execute_result"
    }
   ],
   "source": [
    "def parse_license_num(x):\n",
    "    return int(''.join(re.findall('[\\d]', x)).split('\\n')[0])\n",
    "df['license_num'] = df.license.apply(parse_license_num)\n",
    "\n",
    "def mystery_license_identifier(license_num):\n",
    "    if license_num in list(stre['APP_License_num']):\n",
    "        return 'True'\n",
    "    else:\n",
    "        return 'False'\n",
    "df['license_status_active'] = df.license_num.apply(mystery_license_identifier)\n",
    "\n",
    "def get_license_status(license_num):\n",
    "    if len(stre[stre['APP_License_num']==license_num]):\n",
    "        return stre[stre['APP_License_num']==license_num]['APP_Status'].values[0]\n",
    "    else:\n",
    "        return \"not found\"\n",
    "df['license_status'] = df.license_num.apply(get_license_status)\n",
    "\n",
    "def get_license_category(license_num):\n",
    "    if len(stre[stre['APP_License_num']==license_num]):\n",
    "        return stre[stre['APP_License_num']==license_num]['APP_Category'].values[0]\n",
    "    else:\n",
    "        return \"not found\"\n",
    "df['license_category'] = df.license_num.apply(get_license_category)\n",
    "\n",
    "def license_status_checker(license_num):\n",
    "    try:\n",
    "        possibles = stre[stre['APP_License_num']==license_num]\n",
    "        if possibles.APP_Status_Active.sum()!=0:\n",
    "            return 'True'\n",
    "        else: return 'False'\n",
    "    except:\n",
    "        return 'False'\n",
    "df['license_active'] = df.license_num.apply(license_status_checker)\n",
    "\n",
    "df.head()"
   ]
  },
  {
   "cell_type": "markdown",
   "metadata": {},
   "source": [
    "# license_cat_dict\n",
    "( exceeds max __ for license type? )"
   ]
  },
  {
   "cell_type": "code",
   "execution_count": 47,
   "metadata": {},
   "outputs": [],
   "source": [
    "license_cat_dict = {\n",
    "    'HS':{'name':'Home Share Unit',\n",
    "          'maxbeds':5,\n",
    "          'maxguests':10},\n",
    "    'LS':{'name':'Limited Share Unit',\n",
    "          'maxbeds':3,\n",
    "          'maxguests':6},\n",
    "    'OA':{'name':'Owner-Adjacent Unit'}}"
   ]
  },
  {
   "cell_type": "code",
   "execution_count": 48,
   "metadata": {},
   "outputs": [],
   "source": [
    "df['license_max_bedrooms'] = df.license_category.apply(lambda x: license_cat_dict[x]['maxbeds']\\\n",
    "                           if (x in license_cat_dict.keys() and\n",
    "                            'maxbeds' in license_cat_dict[x].keys()) else 5) \n",
    "df['license_max_guests'] = df.license_category.apply(lambda x: license_cat_dict[x]['maxguests']\\\n",
    "                           if (x in license_cat_dict.keys() and\n",
    "                            'maxguests' in license_cat_dict[x].keys()) else 10) \n",
    " \n",
    "df['license_category'] = df.license_category.apply(lambda x: license_cat_dict[x]['name']\n",
    "                          if x in license_cat_dict.keys() else x)\n"
   ]
  },
  {
   "cell_type": "code",
   "execution_count": 49,
   "metadata": {},
   "outputs": [
    {
     "data": {
      "text/plain": [
       "10    107\n",
       "6      75\n",
       "Name: license_max_guests, dtype: int64"
      ]
     },
     "execution_count": 49,
     "metadata": {},
     "output_type": "execute_result"
    }
   ],
   "source": [
    "df.license_max_guests.value_counts()"
   ]
  },
  {
   "cell_type": "code",
   "execution_count": 50,
   "metadata": {},
   "outputs": [],
   "source": [
    "for row in df.index:\n",
    "    \n",
    "    if df.loc[row, 'accommodations'] > df.loc[row, 'license_max_guests']:\n",
    "        df.loc[row, 'exceeds_max_guests'] = 1\n",
    "    else:\n",
    "        df.loc[row, 'exceeds_max_guests'] = 0\n",
    "        \n",
    "    if df.loc[row, 'count_listings'] > df.loc[row, 'license_max_bedrooms']:\n",
    "        df.loc[row, 'exceeds_max_rooms'] = 1\n",
    "    else:\n",
    "        df.loc[row, 'exceeds_max_rooms'] = 0"
   ]
  },
  {
   "cell_type": "code",
   "execution_count": 51,
   "metadata": {},
   "outputs": [
    {
     "data": {
      "text/plain": [
       "<matplotlib.axes._subplots.AxesSubplot at 0x11ccdb750>"
      ]
     },
     "execution_count": 51,
     "metadata": {},
     "output_type": "execute_result"
    },
    {
     "data": {
      "image/png": "[encoded data removed]",
      "text/plain": [
       "<Figure size 432x288 with 1 Axes>"
      ]
     },
     "metadata": {
      "needs_background": "light"
     },
     "output_type": "display_data"
    }
   ],
   "source": [
    "# how spread out are listings under a license?\n",
    "def get_avg_dist_ft(license):\n",
    "    avg_dist = []\n",
    "    listing_group = duplicates[duplicates['license']==license]\n",
    "    for listing in listing_group.index:\n",
    "        distance = ft_distance(\n",
    "            listing_group.loc[listing, 'geometry'].x,\n",
    "            listing_group.loc[listing, 'geometry'].y,\n",
    "            df[df['license']==license].geometry.values[0].x,\n",
    "            df[df['license']==license].geometry.values[0].y,)\n",
    "        avg_dist.append(distance)\n",
    "    return np.mean(avg_dist)\n",
    "\n",
    "df['avg_distance_ft'] = df.license.apply(get_avg_dist_ft)\n",
    "df['dispersal_factor'] = df.avg_distance_ft.apply(np.log1p) - 4\n",
    "df['centroid_confidence'] = round(100*(1-(df.dispersal_factor-df.dispersal_factor.min())\\\n",
    "                        /(df.dispersal_factor.max()-df.dispersal_factor.min())))\n",
    "df.dispersal_factor.hist()"
   ]
  },
  {
   "cell_type": "code",
   "execution_count": 52,
   "metadata": {},
   "outputs": [],
   "source": [
    "# how spread out are listings under a license?\n",
    "def get_max_dist_ft(license):\n",
    "    dist = []\n",
    "    listing_group = duplicates[duplicates['license']==license]\n",
    "    for listing in listing_group.index:\n",
    "        distance = ft_distance(\n",
    "            listing_group.loc[listing, 'geometry'].x,\n",
    "            listing_group.loc[listing, 'geometry'].y,\n",
    "            df[df['license']==license].geometry.values[0].x,\n",
    "            df[df['license']==license].geometry.values[0].y,)\n",
    "        dist.append(distance)\n",
    "    return max(dist)\n",
    "\n",
    "df['max_distance_ft'] = df.license.apply(get_max_dist_ft)"
   ]
  },
  {
   "cell_type": "code",
   "execution_count": 53,
   "metadata": {},
   "outputs": [
    {
     "data": {
      "text/plain": [
       "<matplotlib.axes._subplots.AxesSubplot at 0x11bc49710>"
      ]
     },
     "execution_count": 53,
     "metadata": {},
     "output_type": "execute_result"
    },
    {
     "data": {
      "image/png": "[encoded data removed]",
      "text/plain": [
       "<Figure size 432x288 with 1 Axes>"
      ]
     },
     "metadata": {
      "needs_background": "light"
     },
     "output_type": "display_data"
    }
   ],
   "source": [
    "df['zoom_factor'] = df['max_distance_ft'].apply(np.log1p) - 4\n",
    "df['zoom_factor'] = df['zoom_factor'].apply(lambda x: x if x>0 else 0)\n",
    "df['zoom_factor'].hist()"
   ]
  },
  {
   "cell_type": "code",
   "execution_count": 69,
   "metadata": {},
   "outputs": [
    {
     "data": {
      "text/plain": [
       "array(['Void', 'not found', 'Inactive', 'Active'], dtype=object)"
      ]
     },
     "execution_count": 69,
     "metadata": {},
     "output_type": "execute_result"
    }
   ],
   "source": [
    "df.license_status.unique()"
   ]
  },
  {
   "cell_type": "code",
   "execution_count": 112,
   "metadata": {},
   "outputs": [
    {
     "data": {
      "text/plain": [
       "<matplotlib.axes._subplots.AxesSubplot at 0x124d55fd0>"
      ]
     },
     "execution_count": 112,
     "metadata": {},
     "output_type": "execute_result"
    },
    {
     "data": {
      "image/png": "[encoded data removed]",
      "text/plain": [
       "<Figure size 432x288 with 1 Axes>"
      ]
     },
     "metadata": {
      "needs_background": "light"
     },
     "output_type": "display_data"
    }
   ],
   "source": [
    "df['violator_prob_rating'] = .55*((df.count_listings-df.count_listings.min())\\\n",
    "                         /(df.count_listings.max()-df.count_listings.min())).apply(np.log1p) +\\\n",
    "                             .65*df.closest_commprop_dist_ft.apply(np.log2) +\\\n",
    "                             .85*(1-df.commercial_props/df.n_props_searched) +\\\n",
    "                             (df.license_status.apply(lambda x:\n",
    "                                            0 if x=='Active' else 1)) +\\\n",
    "                             .8*df.dispersal_factor +\\\n",
    "                             .7*df.exceeds_max_rooms +\\\n",
    "                             .75*df.exceeds_max_guests\n",
    "\n",
    "\n",
    "df.sort_values('violator_prob_rating', ascending=False, inplace=True)\n",
    "\n",
    "# log & normalize probability scores\n",
    "df['violator_prob_rating'] = (df['violator_prob_rating']).apply(np.log1p)\n",
    "df.violator_prob_rating = (df.violator_prob_rating-df.violator_prob_rating.min())\\\n",
    "                         /(df.violator_prob_rating.max()-df.violator_prob_rating.min())\n",
    "df.violator_prob_rating = round((df.violator_prob_rating+.03)*95)\n",
    "df.reset_index(inplace=True, drop=True)\n",
    "df.violator_prob_rating.hist(bins=30)"
   ]
  },
  {
   "cell_type": "markdown",
   "metadata": {},
   "source": [
    "##### import matplotlib.pyplot as plt"
   ]
  },
  {
   "cell_type": "code",
   "execution_count": 113,
   "metadata": {},
   "outputs": [
    {
     "data": {
      "text/plain": [
       "[<matplotlib.lines.Line2D at 0x125119650>]"
      ]
     },
     "execution_count": 113,
     "metadata": {},
     "output_type": "execute_result"
    },
    {
     "data": {
      "image/png": "[encoded data removed]",
      "text/plain": [
       "<Figure size 432x288 with 1 Axes>"
      ]
     },
     "metadata": {
      "needs_background": "light"
     },
     "output_type": "display_data"
    }
   ],
   "source": [
    "plt.plot(df.violator_prob_rating, df.closest_commprop_dist_ft)"
   ]
  },
  {
   "cell_type": "code",
   "execution_count": 114,
   "metadata": {},
   "outputs": [],
   "source": [
    "df['marker_radius'] =  df['count_listings'].apply(np.log1p)*4"
   ]
  },
  {
   "cell_type": "markdown",
   "metadata": {},
   "source": [
    "# export"
   ]
  },
  {
   "cell_type": "code",
   "execution_count": 115,
   "metadata": {},
   "outputs": [],
   "source": [
    "lu_map = {'R1': 'Residential 1-family',\n",
    "         'R2': 'Residential 2-family',\n",
    "         'R3': 'Residential 3-family',\n",
    "         'RL': 'Residential land',\n",
    "         'R4': 'Residential (4 - 6) units',\n",
    "         'A': 'Residential (7 and above) units',\n",
    "         'RC': 'Mixed use (Residential and Commercial)',\n",
    "         'CM': 'Condominium main',\n",
    "         'CD': 'Residential condominium unit',\n",
    "         'CP': 'Condo parking',\n",
    "         'CC': 'Commercial condominium',\n",
    "         'AH': 'Agricultural/Horticultural',\n",
    "         'C': 'Commercial',\n",
    "         'CL': 'Commercial Land',\n",
    "         'I': 'Industrial',\n",
    "         'E': 'Tax-Exempt',\n",
    "         'EA': 'Tax-Exempt 121 A (BPDA)',}"
   ]
  },
  {
   "cell_type": "code",
   "execution_count": 116,
   "metadata": {},
   "outputs": [],
   "source": [
    "def get_prop_address(prop_idx):\n",
    "    guess = str(props.loc[prop_idx].ST_NUM) +' '+\\\n",
    "            str(props.loc[prop_idx].ST_NAME.capitalize()) + ' ' +\\\n",
    "            str(props.loc[prop_idx].ST_NAME_SUF.capitalize()) + ', ' +\\\n",
    "            str(props.loc[prop_idx].neighborhood).capitalize()\n",
    "    return ' '.join([x.capitalize() for x in guess.split()])\n",
    "df['best_guess_prop_adrs'] = df.closest_commprop_idx.apply(get_prop_address)\n",
    "\n",
    "def get_prop_unit_n(prop_idx):\n",
    "    return props.loc[prop_idx, 'unit_N']\n",
    "df['best_guess_prop_unit_n'] = df.closest_commprop_idx.apply(get_prop_unit_n)\n",
    "\n",
    "def get_prop_num_floors(prop_idx):\n",
    "    return props.loc[prop_idx, 'NUM_FLOORS']\n",
    "df['best_guess_prop_num_floors'] = df.closest_commprop_idx.apply(get_prop_num_floors)\n",
    "\n",
    "def get_prop_own_occ(prop_idx):\n",
    "    return props.loc[prop_idx, 'OWN_OCC']\n",
    "df['best_guess_prop_own_occ'] = df.closest_commprop_idx.apply(get_prop_own_occ)\n",
    "\n",
    "def get_prop_lu(prop_idx):\n",
    "    return lu_map[props.loc[prop_idx, 'LU']]\n",
    "df['best_guess_prop_lu'] = df.closest_commprop_idx.apply(get_prop_lu)"
   ]
  },
  {
   "cell_type": "code",
   "execution_count": null,
   "metadata": {},
   "outputs": [],
   "source": []
  },
  {
   "cell_type": "code",
   "execution_count": null,
   "metadata": {},
   "outputs": [],
   "source": []
  },
  {
   "cell_type": "code",
   "execution_count": null,
   "metadata": {},
   "outputs": [],
   "source": []
  },
  {
   "cell_type": "code",
   "execution_count": null,
   "metadata": {},
   "outputs": [],
   "source": []
  },
  {
   "cell_type": "code",
   "execution_count": 117,
   "metadata": {},
   "outputs": [],
   "source": [
    "df.to_csv('license_centroids.csv', index=False)"
   ]
  },
  {
   "cell_type": "code",
   "execution_count": null,
   "metadata": {},
   "outputs": [],
   "source": []
  },
  {
   "cell_type": "code",
   "execution_count": null,
   "metadata": {},
   "outputs": [],
   "source": []
  },
  {
   "cell_type": "code",
   "execution_count": null,
   "metadata": {},
   "outputs": [],
   "source": []
  },
  {
   "cell_type": "code",
   "execution_count": null,
   "metadata": {},
   "outputs": [],
   "source": []
  },
  {
   "cell_type": "code",
   "execution_count": null,
   "metadata": {},
   "outputs": [],
   "source": []
  },
  {
   "cell_type": "code",
   "execution_count": null,
   "metadata": {},
   "outputs": [],
   "source": []
  }
 ],
 "metadata": {
  "kernelspec": {
   "display_name": "Python 3",
   "language": "python",
   "name": "python3"
  },
  "language_info": {
   "codemirror_mode": {
    "name": "ipython",
    "version": 3
   },
   "file_extension": ".py",
   "mimetype": "text/x-python",
   "name": "python",
   "nbconvert_exporter": "python",
   "pygments_lexer": "ipython3",
   "version": "3.8.3"
  }
 },
 "nbformat": 4,
 "nbformat_minor": 2
}
