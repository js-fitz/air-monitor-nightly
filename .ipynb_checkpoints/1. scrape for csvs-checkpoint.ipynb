{
 "cells": [
  {
   "cell_type": "code",
   "execution_count": null,
   "metadata": {},
   "outputs": [],
   "source": [
    "import re\n",
    "import os\n",
    "import time\n",
    "import shutil\n",
    "import config\n",
    "from word2number import w2n\n",
    "from selenium import webdriver\n",
    "from tqdm.notebook import tqdm\n",
    "import pandas as pd\n",
    "# for browser interaction & load waiting:\n",
    "from selenium.common.exceptions import TimeoutException\n",
    "from selenium.webdriver.support.ui import WebDriverWait, Select\n",
    "from selenium.webdriver.support import expected_conditions as EC\n",
    "from selenium.webdriver.common.by import By"
   ]
  },
  {
   "cell_type": "markdown",
   "metadata": {},
   "source": [
    "# SCerIS scraper"
   ]
  },
  {
   "cell_type": "code",
   "execution_count": null,
   "metadata": {},
   "outputs": [],
   "source": [
    "# returns target element once it is loaded\n",
    "def wait_for(element, by, timeout=10, multi=False):\n",
    "    global d\n",
    "    time.sleep(.3)\n",
    "    try:\n",
    "        WebDriverWait(d, timeout).until(\n",
    "            EC.presence_of_element_located((by, element)))\n",
    "    except TimeoutException: print(f\"Timeout limit reached ({timeout} s)\")\n",
    "    finally:\n",
    "        if multi: return d.find_elements(by, element)\n",
    "        else: return d.find_element(by, element)"
   ]
  },
  {
   "cell_type": "code",
   "execution_count": null,
   "metadata": {},
   "outputs": [],
   "source": [
    "def launch_new_search(verb=True):\n",
    "    global d\n",
    "    # open search panel\n",
    "    url = 'https://scerisecm.boston.gov/ScerIS/CmPublic/#/Home'\n",
    "    open_search = '/html/body/div[1]/div/div/div[2]/div[3]/search-dashboard/div/div/div[2]/div/div/div/div/ul/li[3]/dashboard-folders-renderer/div/div/div/a[3]'\n",
    "    if d:\n",
    "        wait_for(\"button[ng-click='back()']\", By.CSS_SELECTOR).click()\n",
    "    else:\n",
    "        d = webdriver.Chrome()\n",
    "        d.get(url)\n",
    "    print('Launching new search...')\n",
    "    time.sleep(.8)\n",
    "    wait_for(open_search, By.XPATH).click()\n",
    "    return d"
   ]
  },
  {
   "cell_type": "code",
   "execution_count": null,
   "metadata": {},
   "outputs": [],
   "source": [
    "def check_all_button(verb=True):\n",
    "    # display ALL results data \n",
    "    display_all = \"input[data-ng-model='displayAllInResults.displayAll']\"\n",
    "    wait_for(display_all, By.CSS_SELECTOR).click()\n",
    "    wait_for(display_all, By.CSS_SELECTOR).click()\n",
    "    if verb: print('> Querying all parameters')"
   ]
  },
  {
   "cell_type": "code",
   "execution_count": null,
   "metadata": {},
   "outputs": [],
   "source": [
    "def get_search_params(verb=True):\n",
    "    # define search params and their corresponding input elements on the page\n",
    "    params = wait_for(\"div[ng-repeat='dynamicTerm in dynamicSearchFieldTerms'\",\n",
    "                      By.CSS_SELECTOR, multi=True)\n",
    "    names = [p.text.split('\\n')[0] for p in params]\n",
    "    input_containers = wait_for('input-with-help', By.CLASS_NAME, multi=True)\n",
    "    inputs = [i.find_element_by_tag_name('input') for i in input_containers]\n",
    "    \n",
    "    # list available params\n",
    "    search_param = {n: {'title':p,'input':i}  for n, p, i in zip(names, params, inputs)}\n",
    "    \n",
    "    return(search_param)"
   ]
  },
  {
   "cell_type": "code",
   "execution_count": null,
   "metadata": {},
   "outputs": [],
   "source": [
    "def set_search(param, keys, verb=True):\n",
    "    global search_param\n",
    "    param = search_param[param]\n",
    "    if verb:\n",
    "        d.execute_script(\"arguments[0].scrollIntoView();\", param['title'])\n",
    "    param['input'].send_keys(keys)"
   ]
  },
  {
   "cell_type": "code",
   "execution_count": null,
   "metadata": {},
   "outputs": [],
   "source": [
    "def organize_file(newname, verb=True, download_dir='../../Downloads', target_dir='sceris_data/'):\n",
    "    time.sleep(1)\n",
    "    newname = newname+'_COs.csv'\n",
    "    filename = max([f for f in os.listdir(download_dir)],\n",
    "                   key=lambda xa : os.path.getctime(os.path.join(download_dir,xa)))\n",
    "    if '.part' in filename:\n",
    "        time.sleep(1)\n",
    "        os.rename(os.path.join(download_dir, filename), os.path.join(download_dir, newname))\n",
    "    else:\n",
    "        os.rename(os.path.join(download_dir, filename),os.path.join(download_dir,newname))\n",
    "    shutil.move(os.path.join(download_dir, newname), os.path.join(target_dir,newname))\n",
    "    if verb: print(f\"> File {newname} saved to '{target_dir}'\")\n",
    "\n",
    "# partial credit to dmb - stackoverflow.com/questions/34548041"
   ]
  },
  {
   "cell_type": "code",
   "execution_count": null,
   "metadata": {},
   "outputs": [],
   "source": [
    "def download_if_data(verb=True):\n",
    "    # any results?\n",
    "    wait_for('ui-grid-viewport', By.CLASS_NAME)\n",
    "    records = [t.text for t in\n",
    "           d.find_elements_by_class_name('ui-grid-viewport')]\n",
    "    \n",
    "    if 'No records found.' in ''.join(records):\n",
    "        if verb: print(f'> No records found.')\n",
    "        return\n",
    "\n",
    "    # if any records:\n",
    "    else: \n",
    "        downloader = \"button[ng-click='exportSearchResult()']\"\n",
    "        if verb: print(f'> Downloading data...')\n",
    "        wait_for(downloader, By.CSS_SELECTOR).click()\n",
    "        wait_for('btnDownload', By.ID).click()  \n",
    "        print(f\"> Clicked 'download'\")\n",
    "        organize_file(st_name)"
   ]
  },
  {
   "cell_type": "code",
   "execution_count": null,
   "metadata": {},
   "outputs": [],
   "source": [
    "def sceris_search(st_name):\n",
    "    print('—'*30)\n",
    "    print(f\"Searching primary st address: {st_name}\")\n",
    "    launch_new_search()\n",
    "    check_all_button()\n",
    "    global search_param\n",
    "    search_param = get_search_params()\n",
    "\n",
    "    # make inputs\n",
    "    set_search('Document Type', 'C/O')\n",
    "\n",
    "    time.sleep(.1)\n",
    "    set_search('Street Name', st_name)\n",
    "\n",
    "    # get results\n",
    "    wait_for('btnSearch', By.ID).click()\n",
    "\n",
    "    # scrape and reset\n",
    "    download_if_data(st_name)"
   ]
  },
  {
   "cell_type": "markdown",
   "metadata": {},
   "source": [
    "# import STR ADCO data"
   ]
  },
  {
   "cell_type": "code",
   "execution_count": null,
   "metadata": {},
   "outputs": [],
   "source": [
    "df = pd.read_csv('data_raw/STRbldgsGPSplus.csv')\n",
    "\n",
    "def parse_st_num(x):\n",
    "    f_char = x.split()[0]\n",
    "    if any(w in f_char for w in ['One']):\n",
    "        return str(w2n.word_to_num(x) )\n",
    "    else:\n",
    "        try:  return f'{f_char}-{int(x.split()[1])}'\n",
    "        except: return f'{f_char}'\n",
    "        \n",
    "def parse_st_name(x):\n",
    "    try:\n",
    "        int(x.split()[1])\n",
    "        return x.split()[2]\n",
    "    except:\n",
    "        return x.split()[1]\n",
    "    \n",
    "df['st_name'] = df.GPSaddress.apply(parse_st_name)\n",
    "df['st_num'] = df.GPSaddress.apply(parse_st_num)\n",
    "\n",
    "d = False"
   ]
  },
  {
   "cell_type": "code",
   "execution_count": null,
   "metadata": {},
   "outputs": [],
   "source": [
    "for st_name in tqdm(df.st_name.unique()):\n",
    "    if st_name+'_COs.csv' not in os.listdir('sceris_data'):\n",
    "        sceris_search(st_name)\n",
    "    else:\n",
    "        print(f'[{st_name} -  data already found]')"
   ]
  },
  {
   "cell_type": "code",
   "execution_count": null,
   "metadata": {},
   "outputs": [],
   "source": []
  },
  {
   "cell_type": "code",
   "execution_count": null,
   "metadata": {},
   "outputs": [],
   "source": []
  }
 ],
 "metadata": {
  "kernelspec": {
   "display_name": "Python 3",
   "language": "python",
   "name": "python3"
  },
  "language_info": {
   "codemirror_mode": {
    "name": "ipython",
    "version": 3
   },
   "file_extension": ".py",
   "mimetype": "text/x-python",
   "name": "python",
   "nbconvert_exporter": "python",
   "pygments_lexer": "ipython3",
   "version": "3.8.3"
  }
 },
 "nbformat": 4,
 "nbformat_minor": 4
}
